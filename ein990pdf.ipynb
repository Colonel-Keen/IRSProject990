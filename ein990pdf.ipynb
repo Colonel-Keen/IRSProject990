{
  "nbformat": 4,
  "nbformat_minor": 0,
  "metadata": {
    "colab": {
      "provenance": [],
      "authorship_tag": "ABX9TyNWBk6M6COzvkCKHLjq/N/7",
      "include_colab_link": true
    },
    "kernelspec": {
      "name": "python3",
      "display_name": "Python 3"
    },
    "language_info": {
      "name": "python"
    }
  },
  "cells": [
    {
      "cell_type": "markdown",
      "metadata": {
        "id": "view-in-github",
        "colab_type": "text"
      },
      "source": [
        "<a href=\"https://colab.research.google.com/github/Colonel-Keen/IRSProject990/blob/main/ein990pdf.ipynb\" target=\"_parent\"><img src=\"https://colab.research.google.com/assets/colab-badge.svg\" alt=\"Open In Colab\"/></a>"
      ]
    },
    {
      "cell_type": "code",
      "execution_count": null,
      "metadata": {
        "id": "1VaRETafvjDm"
      },
      "outputs": [],
      "source": [
        "import requests\n",
        "import tkinter as tk\n",
        "from bs4 import BeautifulSoup\n",
        "\n",
        "def download_pdf(pdf_url):\n",
        "    response = requests.get(pdf_url)\n",
        "    if response.status_code == 200:\n",
        "        pdf_filename = pdf_url.split(\"/\")[-1]\n",
        "        with open(pdf_filename, 'wb') as pdf_file:\n",
        "            pdf_file.write(response.content)\n",
        "            status_label.config(text=f\"Downloaded {pdf_filename}\")\n",
        "    else:\n",
        "        status_label.config(text=f\"Failed to download {pdf_url}\")\n",
        "\n",
        "def download_pdfs():\n",
        "    ein_list = ein_entry.get().split()\n",
        "    base_url = \"https://apps.irs.gov/pub/epostcard/cor/\"\n",
        "    for ein in ein_list:\n",
        "        ein_url = f\"{base_url}{ein}.pdf\"\n",
        "        download_pdf(ein_url)\n",
        "\n",
        "app = tk.Tk()\n",
        "app.title(\"EIN PDF Downloader\")\n",
        "\n",
        "instruction_label = tk.Label(app, text=\"Enter EINs separated by spaces or carriage returns:\")\n",
        "instruction_label.pack()\n",
        "\n",
        "ein_entry = tk.Entry(app)\n",
        "ein_entry.pack()\n",
        "\n",
        "download_button = tk.Button(app, text=\"Download PDFs\", command=download_pdfs)\n",
        "download_button.pack()\n",
        "\n",
        "status_label = tk.Label(app, text=\"\")\n",
        "status_label.pack()\n",
        "\n",
        "app.mainloop()"
      ]
    }
  ]
}